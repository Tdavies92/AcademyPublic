{
  "nbformat": 4,
  "nbformat_minor": 0,
  "metadata": {
    "colab": {
      "name": "Untitled5.ipynb",
      "provenance": [],
      "authorship_tag": "ABX9TyMJqoL4nXtF1njaV+/EAwOX",
      "include_colab_link": true
    },
    "kernelspec": {
      "name": "python3",
      "display_name": "Python 3"
    },
    "language_info": {
      "name": "python"
    }
  },
  "cells": [
    {
      "cell_type": "markdown",
      "metadata": {
        "id": "view-in-github",
        "colab_type": "text"
      },
      "source": [
        "<a href=\"https://colab.research.google.com/github/Tdavies92/AcademyPublic/blob/main/FPL%20(custom).ipynb\" target=\"_parent\"><img src=\"https://colab.research.google.com/assets/colab-badge.svg\" alt=\"Open In Colab\"/></a>"
      ]
    },
    {
      "cell_type": "code",
      "metadata": {
        "colab": {
          "base_uri": "https://localhost:8080/"
        },
        "id": "30PQ45FqK1jm",
        "outputId": "d5f554a5-565f-4702-940f-dc80e038a577"
      },
      "source": [
        "import requests\n",
        "import json\n",
        "import csv \n",
        "import os\n",
        "import pandas as pd\n",
        "\n",
        "def get_data():\n",
        "    \"\"\" Retrieve the fpl player data from the hard-coded url\n",
        "    \"\"\"\n",
        "    response = requests.get(\"https://fantasy.premierleague.com/api/bootstrap-static/\")\n",
        "    if response.status_code != 200:\n",
        "        raise Exception(\"Response was code \" + str(response.status_code))\n",
        "    responseStr = response.text\n",
        "    data = json.loads(responseStr)\n",
        "    return data\n",
        "\n",
        "with open('raw.json', 'w') as outf:\n",
        "      json.dump(get_data(), outf)\n",
        "\n",
        "def extract_stat_names(dict_of_stats):\n",
        "    \"\"\" Extracts all the names of the statistics\n",
        "    Args:\n",
        "        dict_of_stats (dict): Dictionary containing key-alue pair of stats\n",
        "    \"\"\"\n",
        "    stat_names = []\n",
        "    for key, val in dict_of_stats.items():\n",
        "        stat_names += [key]\n",
        "    return stat_names\n",
        "\n",
        "def parse_players(list_of_players, base_filename):\n",
        "    stat_names = extract_stat_names(list_of_players[0])\n",
        "    filename = base_filename + 'players_raw.csv'\n",
        "    os.makedirs(os.path.dirname(filename), exist_ok=True)\n",
        "    f = open(filename, 'w+', encoding='utf8', newline='')\n",
        "    w = csv.DictWriter(f, sorted(stat_names))\n",
        "    w.writeheader()\n",
        "    for player in list_of_players:\n",
        "            w.writerow({k:str(v).encode('utf-8').decode('utf-8') for k, v in player.items()})\n",
        "\n",
        "def get_fixtures_data():\n",
        "    \"\"\" Retrieve the fixtures data for the season\n",
        "    \"\"\"\n",
        "    url = \"https://fantasy.premierleague.com/api/fixtures/\"\n",
        "    response = ''\n",
        "    while response == '':\n",
        "        try:\n",
        "            response = requests.get(url)\n",
        "        except:\n",
        "            time.sleep(5)\n",
        "    if response.status_code != 200:\n",
        "        raise Exception(\"Response was code \" + str(response.status_code))\n",
        "    data = json.loads(response.text)\n",
        "    return data\n",
        "\n",
        "def parse_fixtures(data, outfile_base):\n",
        "    fixtures_df = pd.DataFrame.from_records(data)\n",
        "    fixtures_df.to_csv(os.path.join(outfile_base, 'fixtures.csv'), index=False)\n",
        "\n",
        "def fixtures(base_filename):\n",
        "    data = get_fixtures_data()\n",
        "    parse_fixtures(data, base_filename)\n",
        "\n",
        "def parse_team_data(data, outfile_base):\n",
        "    teams_df = pd.DataFrame.from_records(data)\n",
        "    teams_df.to_csv(os.path.join(outfile_base, 'teams.csv'), index=False)\n",
        "\n",
        "#def get_teams(directory):\n",
        "#    teams = {}\n",
        "#    fin = open(directory + \"/teams.csv\", 'rU')\n",
        "#    reader = csv.DictReader(fin)\n",
        "#    for row in reader:\n",
        "#        teams[int(row['id'])] = row['name']\n",
        "#    return teams\n",
        "\n",
        "def parse_data():\n",
        "    \"\"\" Parse and store all the data\n",
        "    \"\"\"\n",
        "    season = '2021-22'\n",
        "    base_filename = 'data/' + season + '/'\n",
        "    print(\"Getting data\")\n",
        "    data = get_data()\n",
        "    print(\"Parsing summary data\")\n",
        "    parse_players(data[\"elements\"], base_filename)\n",
        "    print(\"Getting fixtures data\")\n",
        "    fixtures(base_filename)\n",
        "    print(\"Getting teams data\")    \n",
        "    parse_team_data(data[\"elements\"], base_filename)\n",
        "\n",
        "def main():\n",
        "    parse_data()\n",
        "\n",
        "if __name__ == \"__main__\":\n",
        "    main()\n"
      ],
      "execution_count": 32,
      "outputs": [
        {
          "output_type": "stream",
          "name": "stdout",
          "text": [
            "Getting data\n",
            "Parsing summary data\n",
            "Getting fixtures data\n",
            "Getting teams data\n"
          ]
        }
      ]
    },
    {
      "cell_type": "code",
      "metadata": {
        "id": "Z0vRUKnEbk5D"
      },
      "source": [
        "df = pd.read_csv('/content/data/2021-22/players_raw.csv')\n",
        "\n",
        "df = df[df.minutes > 0]"
      ],
      "execution_count": 16,
      "outputs": []
    },
    {
      "cell_type": "code",
      "metadata": {
        "id": "OLCKuCFqcJCN",
        "outputId": "0ec63587-695c-4168-9484-8586c9e5def8",
        "colab": {
          "base_uri": "https://localhost:8080/",
          "height": 559
        }
      },
      "source": [
        "import matplotlib.pyplot as plt\n",
        "import seaborn as sns\n",
        "\n",
        "df = pd.read_csv('/content/data/2021-22/players_raw.csv')\n",
        "\n",
        "df = df[df.minutes > 0]\n",
        "\n",
        "# Let's see the features distributions in order to see if we have strange / extrem values\n",
        "continuous_feature_analyze_distribution = ['form', 'ict_index', 'influence', 'minutes',\n",
        "       'points_per_game', 'selected_by_percent', 'team',\n",
        "       'threat', 'total_points', 'transfers_in', 'transfers_in_event', 'assists','event_points']\n",
        "\n",
        "df.plot.scatter(x='form', y='event_points')\n",
        "df.plot.scatter(x='ict_index', y='event_points')\n"
      ],
      "execution_count": 30,
      "outputs": [
        {
          "output_type": "execute_result",
          "data": {
            "text/plain": [
              "<matplotlib.axes._subplots.AxesSubplot at 0x7fbaac65fad0>"
            ]
          },
          "metadata": {},
          "execution_count": 30
        },
        {
          "output_type": "display_data",
          "data": {
            "image/png": "[encoded data removed]",
            "text/plain": [
              "<Figure size 432x288 with 1 Axes>"
            ]
          },
          "metadata": {
            "needs_background": "light"
          }
        },
        {
          "output_type": "display_data",
          "data": {
            "image/png": "[encoded data removed]",
            "text/plain": [
              "<Figure size 432x288 with 1 Axes>"
            ]
          },
          "metadata": {
            "needs_background": "light"
          }
        }
      ]
    }
  ]
}