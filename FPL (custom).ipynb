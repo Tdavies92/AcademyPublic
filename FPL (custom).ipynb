{
  "nbformat": 4,
  "nbformat_minor": 0,
  "metadata": {
    "colab": {
      "name": "Untitled5.ipynb",
      "provenance": [],
      "authorship_tag": "ABX9TyPbgZPb+h/r0VIPO8E+8zCS",
      "include_colab_link": true
    },
    "kernelspec": {
      "name": "python3",
      "display_name": "Python 3"
    },
    "language_info": {
      "name": "python"
    }
  },
  "cells": [
    {
      "cell_type": "markdown",
      "metadata": {
        "id": "view-in-github",
        "colab_type": "text"
      },
      "source": [
        "<a href=\"https://colab.research.google.com/github/Tdavies92/AcademyPublic/blob/main/FPL%20(custom).ipynb\" target=\"_parent\"><img src=\"https://colab.research.google.com/assets/colab-badge.svg\" alt=\"Open In Colab\"/></a>"
      ]
    },
    {
      "cell_type": "code",
      "metadata": {
        "colab": {
          "base_uri": "https://localhost:8080/"
        },
        "id": "30PQ45FqK1jm",
        "outputId": "ef174039-5c45-483a-e6d6-07b3b123c099"
      },
      "source": [
        "import requests\n",
        "import json\n",
        "import csv \n",
        "import os\n",
        "import pandas as pd\n",
        "\n",
        "def get_data():\n",
        "    \"\"\" Retrieve the fpl player data from the hard-coded url\n",
        "    \"\"\"\n",
        "    response = requests.get(\"https://fantasy.premierleague.com/api/bootstrap-static/\")\n",
        "    if response.status_code != 200:\n",
        "        raise Exception(\"Response was code \" + str(response.status_code))\n",
        "    responseStr = response.text\n",
        "    data = json.loads(responseStr)\n",
        "    return data\n",
        "\n",
        "with open('raw.json', 'w') as outf:\n",
        "      json.dump(get_data(), outf)\n",
        "\n",
        "def extract_stat_names(dict_of_stats):\n",
        "    \"\"\" Extracts all the names of the statistics\n",
        "    Args:\n",
        "        dict_of_stats (dict): Dictionary containing key-alue pair of stats\n",
        "    \"\"\"\n",
        "    stat_names = []\n",
        "    for key, val in dict_of_stats.items():\n",
        "        stat_names += [key]\n",
        "    return stat_names\n",
        "\n",
        "def parse_players(list_of_players, base_filename):\n",
        "    stat_names = extract_stat_names(list_of_players[0])\n",
        "    filename = base_filename + 'players_raw.csv'\n",
        "    os.makedirs(os.path.dirname(filename), exist_ok=True)\n",
        "    f = open(filename, 'w+', encoding='utf8', newline='')\n",
        "    w = csv.DictWriter(f, sorted(stat_names))\n",
        "    w.writeheader()\n",
        "    for player in list_of_players:\n",
        "            w.writerow({k:str(v).encode('utf-8').decode('utf-8') for k, v in player.items()})\n",
        "\n",
        "def get_fixtures_data():\n",
        "    \"\"\" Retrieve the fixtures data for the season\n",
        "    \"\"\"\n",
        "    url = \"https://fantasy.premierleague.com/api/fixtures/\"\n",
        "    response = ''\n",
        "    while response == '':\n",
        "        try:\n",
        "            response = requests.get(url)\n",
        "        except:\n",
        "            time.sleep(5)\n",
        "    if response.status_code != 200:\n",
        "        raise Exception(\"Response was code \" + str(response.status_code))\n",
        "    data = json.loads(response.text)\n",
        "    return data\n",
        "\n",
        "def parse_fixtures(data, outfile_base):\n",
        "    fixtures_df = pd.DataFrame.from_records(data)\n",
        "    fixtures_df.to_csv(os.path.join(outfile_base, 'fixtures.csv'), index=False)\n",
        "\n",
        "def fixtures(base_filename):\n",
        "    data = get_fixtures_data()\n",
        "    parse_fixtures(data, base_filename)\n",
        "\n",
        "def parse_data():\n",
        "    \"\"\" Parse and store all the data\n",
        "    \"\"\"\n",
        "    season = '2021-22'\n",
        "    base_filename = 'data/' + season + '/'\n",
        "    print(\"Getting data\")\n",
        "    data = get_data()\n",
        "    print(\"Parsing summary data\")\n",
        "    parse_players(data[\"elements\"], base_filename)\n",
        "    print(\"Getting fixtures data\")\n",
        "    fixtures(base_filename)\n",
        "\n",
        "def main():\n",
        "    parse_data()\n",
        "\n",
        "if __name__ == \"__main__\":\n",
        "    main()\n"
      ],
      "execution_count": 4,
      "outputs": [
        {
          "output_type": "stream",
          "name": "stdout",
          "text": [
            "Getting data\n",
            "Parsing summary data\n",
            "Getting fixtures data\n"
          ]
        }
      ]
    },
    {
      "cell_type": "code",
      "metadata": {
        "colab": {
          "base_uri": "https://localhost:8080/"
        },
        "id": "o6YLgRPiLU1q",
        "outputId": "f27ca63f-ca73-4241-cc82-e68627078760"
      },
      "source": [
        ""
      ],
      "execution_count": null,
      "outputs": [
        {
          "output_type": "stream",
          "name": "stdout",
          "text": [
            "Getting data\n",
            "Parsing summary data\n"
          ]
        }
      ]
    }
  ]
}